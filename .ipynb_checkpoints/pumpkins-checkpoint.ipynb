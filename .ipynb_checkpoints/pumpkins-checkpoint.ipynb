{
 "cells": [
  {
   "cell_type": "code",
   "execution_count": 4,
   "metadata": {},
   "outputs": [
    {
     "name": "stdout",
     "output_type": "stream",
     "text": [
      "[270. 270. 160. ... 275. 275. 275.]\n",
      "[280. 280. 160. ... 275. 275. 275.]\n"
     ]
    }
   ],
   "source": [
    "from sklearn.linear_model import LinearRegression\n",
    "from sklearn.metrics import mean_squared_error\n",
    "from sklearn.model_selection import train_test_split\n",
    "import numpy as np\n",
    "import pandas as pd\n",
    "\n",
    "# Functions\n",
    "def getListByCsvColumn(column):\n",
    "    return pumpkins[column].to_numpy()\n",
    "\n",
    "pumpkins = pd.read_csv('./US-pumpkins.csv')\n",
    "\n",
    "low_price = getListByCsvColumn('Low Price')\n",
    "\n",
    "print(len(low_price))\n",
    "\n",
    "high_price = getListByCsvColumn('High Price')\n",
    "\n",
    "print(high_price))\n",
    "#print(getListByCsvColumn('Package'))\n",
    "#print(getListByCsvColumn('Date'))\n",
    "\n",
    "# pumpkins.head()\n",
    "\n",
    "\n",
    "\n"
   ]
  },
  {
   "cell_type": "code",
   "execution_count": null,
   "metadata": {},
   "outputs": [],
   "source": []
  },
  {
   "cell_type": "code",
   "execution_count": null,
   "metadata": {},
   "outputs": [],
   "source": []
  }
 ],
 "metadata": {
  "kernelspec": {
   "display_name": "Python 3 (ipykernel)",
   "language": "python",
   "name": "python3"
  },
  "language_info": {
   "codemirror_mode": {
    "name": "ipython",
    "version": 3
   },
   "file_extension": ".py",
   "mimetype": "text/x-python",
   "name": "python",
   "nbconvert_exporter": "python",
   "pygments_lexer": "ipython3",
   "version": "3.10.6"
  },
  "vscode": {
   "interpreter": {
    "hash": "31f2aee4e71d21fbe5cf8b01ff0e069b9275f58929596ceb00d14d90e3e16cd6"
   }
  }
 },
 "nbformat": 4,
 "nbformat_minor": 2
}
