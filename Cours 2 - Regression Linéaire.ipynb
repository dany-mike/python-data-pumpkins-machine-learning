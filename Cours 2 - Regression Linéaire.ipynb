{
 "cells": [
  {
   "cell_type": "markdown",
   "id": "2f4d14b1",
   "metadata": {
    "id": "2f4d14b1"
   },
   "source": [
    "# Cours 2 - Construisons un modèle de régression !\n",
    "Duquesne - 2022\n",
    "\n",
    "Le materiel de cours à été adapté à partir de [ce site](https://github.com/microsoft/ML-For-Beginners)"
   ]
  },
  {
   "cell_type": "markdown",
   "id": "1286c6cf",
   "metadata": {
    "id": "1286c6cf"
   },
   "source": [
    "La libraire de Machine Learning que nous allons utiliser aujourd'hui s'appelle scikit-learn: https://scikit-learn.org/stable/index.html"
   ]
  },
  {
   "cell_type": "code",
   "execution_count": 3,
   "id": "09e61205",
   "metadata": {
    "executionInfo": {
     "elapsed": 231,
     "status": "ok",
     "timestamp": 1665409013504,
     "user": {
      "displayName": "Maya PESSEL",
      "userId": "07024533726658810336"
     },
     "user_tz": -120
    },
    "id": "09e61205"
   },
   "outputs": [],
   "source": [
    "from sklearn.linear_model import LinearRegression\n",
    "from sklearn.metrics import mean_squared_error\n",
    "from sklearn.model_selection import train_test_split\n",
    "import numpy as np"
   ]
  },
  {
   "cell_type": "markdown",
   "id": "22388f3d",
   "metadata": {
    "id": "22388f3d"
   },
   "source": [
    "Aujourd'hui, nous allons explorer notre pipeline de Machine Learning (ML) avec un ensemble de données sur les citrouilles. Le modèle de ML que nous allons découvrir est la régression linéaire (et la régression polynomiale)."
   ]
  },
  {
   "cell_type": "markdown",
   "id": "7a86fd59",
   "metadata": {
    "id": "7a86fd59"
   },
   "source": [
    "## Avec quel type de données est-ce que je travaille ?"
   ]
  },
  {
   "cell_type": "markdown",
   "id": "96cc310d",
   "metadata": {
    "id": "96cc310d"
   },
   "source": [
    "Le jeu de données sur les citrouilles est proposé par [ce projet](https://www.kaggle.com/datasets/usda/a-year-of-pumpkin-prices) sur Kaggle et ses données proviennent des \"Specialty Crops Terminal Markets Standard Reports\" distribués par le ministère de l'Agriculture des États-Unis. Certains points autour de la couleur basée sur la variété ont été ajoutés pour normaliser la distribution. Ces données sont dans le domaine public."
   ]
  },
  {
   "cell_type": "markdown",
   "id": "90422ab6",
   "metadata": {
    "id": "90422ab6"
   },
   "source": [
    "Chargez les données dans le notebook en exécutant la cellule suivante. Notre but est de comprendre avec quel type de données nous travaillons.\n",
    "* Quelles sont mes données ? Que représentent-elles ? \n",
    "* Quels sont les types de données pour chacune de mes colonnes ?\n",
    "* Ai-je des données manquantes ? Si oui, combien et pour quelles colonnes? "
   ]
  },
  {
   "cell_type": "code",
   "execution_count": 4,
   "id": "2b24544b",
   "metadata": {
    "colab": {
     "base_uri": "https://localhost:8080/",
     "height": 439
    },
    "executionInfo": {
     "elapsed": 2184,
     "status": "ok",
     "timestamp": 1665409015903,
     "user": {
      "displayName": "Maya PESSEL",
      "userId": "07024533726658810336"
     },
     "user_tz": -120
    },
    "id": "2b24544b",
    "outputId": "dcdca8d1-6b4a-404b-b17b-505c3d969394"
   },
   "outputs": [
    {
     "name": "stdout",
     "output_type": "stream",
     "text": [
      "Drive already mounted at /content/drive; to attempt to forcibly remount, call drive.mount(\"/content/drive\", force_remount=True).\n"
     ]
    },
    {
     "data": {
      "text/html": [
       "\n",
       "  <div id=\"df-5746797b-9c5e-44e0-9868-e3e296a338e7\">\n",
       "    <div class=\"colab-df-container\">\n",
       "      <div>\n",
       "<style scoped>\n",
       "    .dataframe tbody tr th:only-of-type {\n",
       "        vertical-align: middle;\n",
       "    }\n",
       "\n",
       "    .dataframe tbody tr th {\n",
       "        vertical-align: top;\n",
       "    }\n",
       "\n",
       "    .dataframe thead th {\n",
       "        text-align: right;\n",
       "    }\n",
       "</style>\n",
       "<table border=\"1\" class=\"dataframe\">\n",
       "  <thead>\n",
       "    <tr style=\"text-align: right;\">\n",
       "      <th></th>\n",
       "      <th>City Name</th>\n",
       "      <th>Type</th>\n",
       "      <th>Package</th>\n",
       "      <th>Variety</th>\n",
       "      <th>Sub Variety</th>\n",
       "      <th>Grade</th>\n",
       "      <th>Date</th>\n",
       "      <th>Low Price</th>\n",
       "      <th>High Price</th>\n",
       "      <th>Mostly Low</th>\n",
       "      <th>...</th>\n",
       "      <th>Unit of Sale</th>\n",
       "      <th>Quality</th>\n",
       "      <th>Condition</th>\n",
       "      <th>Appearance</th>\n",
       "      <th>Storage</th>\n",
       "      <th>Crop</th>\n",
       "      <th>Repack</th>\n",
       "      <th>Trans Mode</th>\n",
       "      <th>Unnamed: 24</th>\n",
       "      <th>Unnamed: 25</th>\n",
       "    </tr>\n",
       "  </thead>\n",
       "  <tbody>\n",
       "    <tr>\n",
       "      <th>0</th>\n",
       "      <td>BALTIMORE</td>\n",
       "      <td>NaN</td>\n",
       "      <td>24 inch bins</td>\n",
       "      <td>NaN</td>\n",
       "      <td>NaN</td>\n",
       "      <td>NaN</td>\n",
       "      <td>4/29/17</td>\n",
       "      <td>270.0</td>\n",
       "      <td>280.0</td>\n",
       "      <td>270.0</td>\n",
       "      <td>...</td>\n",
       "      <td>NaN</td>\n",
       "      <td>NaN</td>\n",
       "      <td>NaN</td>\n",
       "      <td>NaN</td>\n",
       "      <td>NaN</td>\n",
       "      <td>NaN</td>\n",
       "      <td>E</td>\n",
       "      <td>NaN</td>\n",
       "      <td>NaN</td>\n",
       "      <td>NaN</td>\n",
       "    </tr>\n",
       "    <tr>\n",
       "      <th>1</th>\n",
       "      <td>BALTIMORE</td>\n",
       "      <td>NaN</td>\n",
       "      <td>24 inch bins</td>\n",
       "      <td>NaN</td>\n",
       "      <td>NaN</td>\n",
       "      <td>NaN</td>\n",
       "      <td>5/6/17</td>\n",
       "      <td>270.0</td>\n",
       "      <td>280.0</td>\n",
       "      <td>270.0</td>\n",
       "      <td>...</td>\n",
       "      <td>NaN</td>\n",
       "      <td>NaN</td>\n",
       "      <td>NaN</td>\n",
       "      <td>NaN</td>\n",
       "      <td>NaN</td>\n",
       "      <td>NaN</td>\n",
       "      <td>E</td>\n",
       "      <td>NaN</td>\n",
       "      <td>NaN</td>\n",
       "      <td>NaN</td>\n",
       "    </tr>\n",
       "    <tr>\n",
       "      <th>2</th>\n",
       "      <td>BALTIMORE</td>\n",
       "      <td>NaN</td>\n",
       "      <td>24 inch bins</td>\n",
       "      <td>HOWDEN TYPE</td>\n",
       "      <td>NaN</td>\n",
       "      <td>NaN</td>\n",
       "      <td>9/24/16</td>\n",
       "      <td>160.0</td>\n",
       "      <td>160.0</td>\n",
       "      <td>160.0</td>\n",
       "      <td>...</td>\n",
       "      <td>NaN</td>\n",
       "      <td>NaN</td>\n",
       "      <td>NaN</td>\n",
       "      <td>NaN</td>\n",
       "      <td>NaN</td>\n",
       "      <td>NaN</td>\n",
       "      <td>N</td>\n",
       "      <td>NaN</td>\n",
       "      <td>NaN</td>\n",
       "      <td>NaN</td>\n",
       "    </tr>\n",
       "    <tr>\n",
       "      <th>3</th>\n",
       "      <td>BALTIMORE</td>\n",
       "      <td>NaN</td>\n",
       "      <td>24 inch bins</td>\n",
       "      <td>HOWDEN TYPE</td>\n",
       "      <td>NaN</td>\n",
       "      <td>NaN</td>\n",
       "      <td>9/24/16</td>\n",
       "      <td>160.0</td>\n",
       "      <td>160.0</td>\n",
       "      <td>160.0</td>\n",
       "      <td>...</td>\n",
       "      <td>NaN</td>\n",
       "      <td>NaN</td>\n",
       "      <td>NaN</td>\n",
       "      <td>NaN</td>\n",
       "      <td>NaN</td>\n",
       "      <td>NaN</td>\n",
       "      <td>N</td>\n",
       "      <td>NaN</td>\n",
       "      <td>NaN</td>\n",
       "      <td>NaN</td>\n",
       "    </tr>\n",
       "    <tr>\n",
       "      <th>4</th>\n",
       "      <td>BALTIMORE</td>\n",
       "      <td>NaN</td>\n",
       "      <td>24 inch bins</td>\n",
       "      <td>HOWDEN TYPE</td>\n",
       "      <td>NaN</td>\n",
       "      <td>NaN</td>\n",
       "      <td>11/5/16</td>\n",
       "      <td>90.0</td>\n",
       "      <td>100.0</td>\n",
       "      <td>90.0</td>\n",
       "      <td>...</td>\n",
       "      <td>NaN</td>\n",
       "      <td>NaN</td>\n",
       "      <td>NaN</td>\n",
       "      <td>NaN</td>\n",
       "      <td>NaN</td>\n",
       "      <td>NaN</td>\n",
       "      <td>N</td>\n",
       "      <td>NaN</td>\n",
       "      <td>NaN</td>\n",
       "      <td>NaN</td>\n",
       "    </tr>\n",
       "  </tbody>\n",
       "</table>\n",
       "<p>5 rows × 26 columns</p>\n",
       "</div>\n",
       "      <button class=\"colab-df-convert\" onclick=\"convertToInteractive('df-5746797b-9c5e-44e0-9868-e3e296a338e7')\"\n",
       "              title=\"Convert this dataframe to an interactive table.\"\n",
       "              style=\"display:none;\">\n",
       "        \n",
       "  <svg xmlns=\"http://www.w3.org/2000/svg\" height=\"24px\"viewBox=\"0 0 24 24\"\n",
       "       width=\"24px\">\n",
       "    <path d=\"M0 0h24v24H0V0z\" fill=\"none\"/>\n",
       "    <path d=\"M18.56 5.44l.94 2.06.94-2.06 2.06-.94-2.06-.94-.94-2.06-.94 2.06-2.06.94zm-11 1L8.5 8.5l.94-2.06 2.06-.94-2.06-.94L8.5 2.5l-.94 2.06-2.06.94zm10 10l.94 2.06.94-2.06 2.06-.94-2.06-.94-.94-2.06-.94 2.06-2.06.94z\"/><path d=\"M17.41 7.96l-1.37-1.37c-.4-.4-.92-.59-1.43-.59-.52 0-1.04.2-1.43.59L10.3 9.45l-7.72 7.72c-.78.78-.78 2.05 0 2.83L4 21.41c.39.39.9.59 1.41.59.51 0 1.02-.2 1.41-.59l7.78-7.78 2.81-2.81c.8-.78.8-2.07 0-2.86zM5.41 20L4 18.59l7.72-7.72 1.47 1.35L5.41 20z\"/>\n",
       "  </svg>\n",
       "      </button>\n",
       "      \n",
       "  <style>\n",
       "    .colab-df-container {\n",
       "      display:flex;\n",
       "      flex-wrap:wrap;\n",
       "      gap: 12px;\n",
       "    }\n",
       "\n",
       "    .colab-df-convert {\n",
       "      background-color: #E8F0FE;\n",
       "      border: none;\n",
       "      border-radius: 50%;\n",
       "      cursor: pointer;\n",
       "      display: none;\n",
       "      fill: #1967D2;\n",
       "      height: 32px;\n",
       "      padding: 0 0 0 0;\n",
       "      width: 32px;\n",
       "    }\n",
       "\n",
       "    .colab-df-convert:hover {\n",
       "      background-color: #E2EBFA;\n",
       "      box-shadow: 0px 1px 2px rgba(60, 64, 67, 0.3), 0px 1px 3px 1px rgba(60, 64, 67, 0.15);\n",
       "      fill: #174EA6;\n",
       "    }\n",
       "\n",
       "    [theme=dark] .colab-df-convert {\n",
       "      background-color: #3B4455;\n",
       "      fill: #D2E3FC;\n",
       "    }\n",
       "\n",
       "    [theme=dark] .colab-df-convert:hover {\n",
       "      background-color: #434B5C;\n",
       "      box-shadow: 0px 1px 3px 1px rgba(0, 0, 0, 0.15);\n",
       "      filter: drop-shadow(0px 1px 2px rgba(0, 0, 0, 0.3));\n",
       "      fill: #FFFFFF;\n",
       "    }\n",
       "  </style>\n",
       "\n",
       "      <script>\n",
       "        const buttonEl =\n",
       "          document.querySelector('#df-5746797b-9c5e-44e0-9868-e3e296a338e7 button.colab-df-convert');\n",
       "        buttonEl.style.display =\n",
       "          google.colab.kernel.accessAllowed ? 'block' : 'none';\n",
       "\n",
       "        async function convertToInteractive(key) {\n",
       "          const element = document.querySelector('#df-5746797b-9c5e-44e0-9868-e3e296a338e7');\n",
       "          const dataTable =\n",
       "            await google.colab.kernel.invokeFunction('convertToInteractive',\n",
       "                                                     [key], {});\n",
       "          if (!dataTable) return;\n",
       "\n",
       "          const docLinkHtml = 'Like what you see? Visit the ' +\n",
       "            '<a target=\"_blank\" href=https://colab.research.google.com/notebooks/data_table.ipynb>data table notebook</a>'\n",
       "            + ' to learn more about interactive tables.';\n",
       "          element.innerHTML = '';\n",
       "          dataTable['output_type'] = 'display_data';\n",
       "          await google.colab.output.renderOutput(dataTable, element);\n",
       "          const docLink = document.createElement('div');\n",
       "          docLink.innerHTML = docLinkHtml;\n",
       "          element.appendChild(docLink);\n",
       "        }\n",
       "      </script>\n",
       "    </div>\n",
       "  </div>\n",
       "  "
      ],
      "text/plain": [
       "   City Name Type       Package      Variety Sub Variety  Grade     Date  \\\n",
       "0  BALTIMORE  NaN  24 inch bins          NaN         NaN    NaN  4/29/17   \n",
       "1  BALTIMORE  NaN  24 inch bins          NaN         NaN    NaN   5/6/17   \n",
       "2  BALTIMORE  NaN  24 inch bins  HOWDEN TYPE         NaN    NaN  9/24/16   \n",
       "3  BALTIMORE  NaN  24 inch bins  HOWDEN TYPE         NaN    NaN  9/24/16   \n",
       "4  BALTIMORE  NaN  24 inch bins  HOWDEN TYPE         NaN    NaN  11/5/16   \n",
       "\n",
       "   Low Price  High Price  Mostly Low  ...  Unit of Sale Quality Condition  \\\n",
       "0      270.0       280.0       270.0  ...           NaN     NaN       NaN   \n",
       "1      270.0       280.0       270.0  ...           NaN     NaN       NaN   \n",
       "2      160.0       160.0       160.0  ...           NaN     NaN       NaN   \n",
       "3      160.0       160.0       160.0  ...           NaN     NaN       NaN   \n",
       "4       90.0       100.0        90.0  ...           NaN     NaN       NaN   \n",
       "\n",
       "  Appearance Storage  Crop Repack  Trans Mode  Unnamed: 24  Unnamed: 25  \n",
       "0        NaN     NaN   NaN      E         NaN          NaN          NaN  \n",
       "1        NaN     NaN   NaN      E         NaN          NaN          NaN  \n",
       "2        NaN     NaN   NaN      N         NaN          NaN          NaN  \n",
       "3        NaN     NaN   NaN      N         NaN          NaN          NaN  \n",
       "4        NaN     NaN   NaN      N         NaN          NaN          NaN  \n",
       "\n",
       "[5 rows x 26 columns]"
      ]
     },
     "execution_count": 4,
     "metadata": {},
     "output_type": "execute_result"
    }
   ],
   "source": [
    "import pandas as pd\n",
    "\n",
    "from google.colab import drive\n",
    "drive.mount('/content/drive')\n",
    "\n",
    "\n",
    "\n",
    "\n",
    "pumpkins = pd.read_csv('./drive/Shareddrives/T&C - Promotion 2023/3A - 2022-2023/Python DATA/Cours 2/US-pumpkins.csv')\n",
    "pumpkins.head()"
   ]
  },
  {
   "cell_type": "markdown",
   "id": "e3321539",
   "metadata": {
    "id": "e3321539"
   },
   "source": [
    "Après quelques explorations, nous constatons que les données sont un peu en vrac. En fait, il n'est pas très courant de recevoir un jeu de données entièrement prêt à être utilisé pour créer un modèle de ML.     \n",
    "\n",
    "Aujourd'hui, vous allez apprendre à préparer un jeu de données brut pour entraîner un modèle de ML."
   ]
  },
  {
   "cell_type": "markdown",
   "id": "6fcfaaff",
   "metadata": {
    "id": "6fcfaaff"
   },
   "source": [
    "## Quelle est la question que nous nous posons ? "
   ]
  },
  {
   "cell_type": "markdown",
   "id": "2d45ef7b",
   "metadata": {
    "id": "2d45ef7b"
   },
   "source": [
    "Avant de commencer à préparer nos données, il est important de considérer la question posée. \n",
    "\n",
    "En général, la question à laquelle vous devez répondre déterminera le type d'algorithmes ML que vous utiliserez. Et la qualité de la réponse que vous obtiendrez dépendra fortement de la nature de vos données."
   ]
  },
  {
   "cell_type": "markdown",
   "id": "4a7088ba",
   "metadata": {
    "id": "4a7088ba"
   },
   "source": [
    "Puisque nous travaillons avec un modèle de régression, une question que nous pourrions formuler avec nos données pourrait être : **\"Pouvons-nous prédire le prix d'une citrouille pour un jour donné ? \"**.    \n",
    "\n",
    "Maintenant, en regardant à nouveau les données, il y a quelques changements que nous devons faire pour préparer les données à un modèle de regression (et de ML plus généralement)."
   ]
  },
  {
   "cell_type": "markdown",
   "id": "40862a25",
   "metadata": {
    "id": "40862a25"
   },
   "source": [
    "## Comment préparer mes données ?"
   ]
  },
  {
   "cell_type": "markdown",
   "id": "7a97fd22",
   "metadata": {
    "id": "7a97fd22"
   },
   "source": [
    "#### Colonnes pertinentes"
   ]
  },
  {
   "cell_type": "markdown",
   "id": "721ab453",
   "metadata": {
    "id": "721ab453"
   },
   "source": [
    "Comme nous voulons prédire le prix pour un jour spécifique, certaines colonnes ne contiennent peut-être pas de données pertinentes pour nous. \n",
    "\n",
    "Commençons par garder que les colonnes pertinentes pour notre question :"
   ]
  },
  {
   "cell_type": "code",
   "execution_count": 5,
   "id": "1f461c61",
   "metadata": {
    "executionInfo": {
     "elapsed": 11,
     "status": "ok",
     "timestamp": 1665409015904,
     "user": {
      "displayName": "Maya PESSEL",
      "userId": "07024533726658810336"
     },
     "user_tz": -120
    },
    "id": "1f461c61"
   },
   "outputs": [],
   "source": [
    "new_columns = ['Name of column to keep'] #put names of columns to keep here\n",
    "pumpkins = pumpkins.drop([c for c in pumpkins.columns if c not in new_columns], axis=1)"
   ]
  },
  {
   "cell_type": "markdown",
   "id": "7d5442b3",
   "metadata": {
    "id": "7d5442b3"
   },
   "source": [
    "#### Extraction des jours"
   ]
  },
  {
   "cell_type": "markdown",
   "id": "077ece3b",
   "metadata": {
    "id": "077ece3b"
   },
   "source": [
    "Puisque nous travaillons avec des dates, nous devons également extraire le jour de l'année (sur 365 jours) dans une nouvelle colonne. Dans cet ensemble de données, nous avons des dates américaines, donc le format est MM/DD/YYYY)."
   ]
  },
  {
   "cell_type": "code",
   "execution_count": 6,
   "id": "f5260394",
   "metadata": {
    "executionInfo": {
     "elapsed": 11,
     "status": "ok",
     "timestamp": 1665409015905,
     "user": {
      "displayName": "Maya PESSEL",
      "userId": "07024533726658810336"
     },
     "user_tz": -120
    },
    "id": "f5260394"
   },
   "outputs": [],
   "source": [
    "# your code"
   ]
  },
  {
   "cell_type": "markdown",
   "id": "8803f7a4",
   "metadata": {
    "id": "8803f7a4"
   },
   "source": [
    "#### Prix moyen"
   ]
  },
  {
   "cell_type": "markdown",
   "id": "1ba1966f",
   "metadata": {
    "id": "1ba1966f"
   },
   "source": [
    "Maintenant, nous avons également besoin du prix moyen de nos citrouilles. Pour cela, nous devons prendre la moyenne des colonnes `Low Price` et `High Price` pour remplir une colonne `Average Price`."
   ]
  },
  {
   "cell_type": "code",
   "execution_count": 7,
   "id": "84956cb0",
   "metadata": {
    "executionInfo": {
     "elapsed": 11,
     "status": "ok",
     "timestamp": 1665409015906,
     "user": {
      "displayName": "Maya PESSEL",
      "userId": "07024533726658810336"
     },
     "user_tz": -120
    },
    "id": "84956cb0"
   },
   "outputs": [],
   "source": [
    "#Your code"
   ]
  },
  {
   "cell_type": "markdown",
   "id": "9e930ce5",
   "metadata": {
    "id": "9e930ce5"
   },
   "source": [
    "#### Données Manquantes"
   ]
  },
  {
   "cell_type": "markdown",
   "id": "0d9c5455",
   "metadata": {
    "id": "0d9c5455"
   },
   "source": [
    "Avons-nous des valeurs manquantes dans notre ensemble de données ? Il semble que nous ayons de la chance ici, mais dans la plupart des cas, savoir comment traiter les données manquantes est une étape importante de la préparation des données. [Cet article](https://www.analyticsvidhya.com/blog/2021/05/dealing-with-missing-values-in-python-a-complete-guide/) explique les possibilités qui s'offrent à nous lorsque nous sommes confrontés à des données manquantes."
   ]
  },
  {
   "cell_type": "code",
   "execution_count": 8,
   "id": "ae2c0b97",
   "metadata": {
    "executionInfo": {
     "elapsed": 10,
     "status": "ok",
     "timestamp": 1665409015906,
     "user": {
      "displayName": "Maya PESSEL",
      "userId": "07024533726658810336"
     },
     "user_tz": -120
    },
    "id": "ae2c0b97"
   },
   "outputs": [],
   "source": [
    "#pumpkins.isnull().sum()"
   ]
  },
  {
   "cell_type": "markdown",
   "id": "5c5f51c5",
   "metadata": {
    "id": "5c5f51c5"
   },
   "source": [
    "#### Mais attendez ! Il y a quelque chose de bizarre ici."
   ]
  },
  {
   "cell_type": "markdown",
   "id": "36a5c225",
   "metadata": {
    "id": "36a5c225"
   },
   "source": [
    "Si vous regardez la colonne `Package`, les citrouilles sont vendues dans de nombreuses configurations différentes. Certaines sont vendues dans des mesures de \"1 1/9 bushel\", d'autres dans des mesures de \"1/2 bushel\", certaines par citrouille, d'autres par pound (=livre), et d'autres encore dans de grandes boîtes de différentes largeurs."
   ]
  },
  {
   "cell_type": "code",
   "execution_count": 9,
   "id": "cd56b603",
   "metadata": {
    "colab": {
     "base_uri": "https://localhost:8080/",
     "height": 514
    },
    "executionInfo": {
     "elapsed": 672,
     "status": "error",
     "timestamp": 1665409016569,
     "user": {
      "displayName": "Maya PESSEL",
      "userId": "07024533726658810336"
     },
     "user_tz": -120
    },
    "id": "cd56b603",
    "outputId": "46ed9368-895c-4ec3-a0e6-6f94d8cf0f0f"
   },
   "outputs": [
    {
     "ename": "KeyError",
     "evalue": "ignored",
     "output_type": "error",
     "traceback": [
      "\u001b[0;31m---------------------------------------------------------------------------\u001b[0m",
      "\u001b[0;31mKeyError\u001b[0m                                  Traceback (most recent call last)",
      "\u001b[0;32m/usr/local/lib/python3.7/dist-packages/pandas/core/indexes/base.py\u001b[0m in \u001b[0;36mget_loc\u001b[0;34m(self, key, method, tolerance)\u001b[0m\n\u001b[1;32m   3360\u001b[0m             \u001b[0;32mtry\u001b[0m\u001b[0;34m:\u001b[0m\u001b[0;34m\u001b[0m\u001b[0;34m\u001b[0m\u001b[0m\n\u001b[0;32m-> 3361\u001b[0;31m                 \u001b[0;32mreturn\u001b[0m \u001b[0mself\u001b[0m\u001b[0;34m.\u001b[0m\u001b[0m_engine\u001b[0m\u001b[0;34m.\u001b[0m\u001b[0mget_loc\u001b[0m\u001b[0;34m(\u001b[0m\u001b[0mcasted_key\u001b[0m\u001b[0;34m)\u001b[0m\u001b[0;34m\u001b[0m\u001b[0;34m\u001b[0m\u001b[0m\n\u001b[0m\u001b[1;32m   3362\u001b[0m             \u001b[0;32mexcept\u001b[0m \u001b[0mKeyError\u001b[0m \u001b[0;32mas\u001b[0m \u001b[0merr\u001b[0m\u001b[0;34m:\u001b[0m\u001b[0;34m\u001b[0m\u001b[0;34m\u001b[0m\u001b[0m\n",
      "\u001b[0;32m/usr/local/lib/python3.7/dist-packages/pandas/_libs/index.pyx\u001b[0m in \u001b[0;36mpandas._libs.index.IndexEngine.get_loc\u001b[0;34m()\u001b[0m\n",
      "\u001b[0;32m/usr/local/lib/python3.7/dist-packages/pandas/_libs/index.pyx\u001b[0m in \u001b[0;36mpandas._libs.index.IndexEngine.get_loc\u001b[0;34m()\u001b[0m\n",
      "\u001b[0;32mpandas/_libs/hashtable_class_helper.pxi\u001b[0m in \u001b[0;36mpandas._libs.hashtable.PyObjectHashTable.get_item\u001b[0;34m()\u001b[0m\n",
      "\u001b[0;32mpandas/_libs/hashtable_class_helper.pxi\u001b[0m in \u001b[0;36mpandas._libs.hashtable.PyObjectHashTable.get_item\u001b[0;34m()\u001b[0m\n",
      "\u001b[0;31mKeyError\u001b[0m: 'Unit of Sale'",
      "\nThe above exception was the direct cause of the following exception:\n",
      "\u001b[0;31mKeyError\u001b[0m                                  Traceback (most recent call last)",
      "\u001b[0;32m<ipython-input-9-1ae8a4536941>\u001b[0m in \u001b[0;36m<module>\u001b[0;34m\u001b[0m\n\u001b[0;32m----> 1\u001b[0;31m \u001b[0mpumpkins\u001b[0m\u001b[0;34m[\u001b[0m\u001b[0;34m'Unit of Sale'\u001b[0m\u001b[0;34m]\u001b[0m\u001b[0;34m.\u001b[0m\u001b[0munique\u001b[0m\u001b[0;34m(\u001b[0m\u001b[0;34m)\u001b[0m\u001b[0;34m\u001b[0m\u001b[0;34m\u001b[0m\u001b[0m\n\u001b[0m",
      "\u001b[0;32m/usr/local/lib/python3.7/dist-packages/pandas/core/frame.py\u001b[0m in \u001b[0;36m__getitem__\u001b[0;34m(self, key)\u001b[0m\n\u001b[1;32m   3456\u001b[0m             \u001b[0;32mif\u001b[0m \u001b[0mself\u001b[0m\u001b[0;34m.\u001b[0m\u001b[0mcolumns\u001b[0m\u001b[0;34m.\u001b[0m\u001b[0mnlevels\u001b[0m \u001b[0;34m>\u001b[0m \u001b[0;36m1\u001b[0m\u001b[0;34m:\u001b[0m\u001b[0;34m\u001b[0m\u001b[0;34m\u001b[0m\u001b[0m\n\u001b[1;32m   3457\u001b[0m                 \u001b[0;32mreturn\u001b[0m \u001b[0mself\u001b[0m\u001b[0;34m.\u001b[0m\u001b[0m_getitem_multilevel\u001b[0m\u001b[0;34m(\u001b[0m\u001b[0mkey\u001b[0m\u001b[0;34m)\u001b[0m\u001b[0;34m\u001b[0m\u001b[0;34m\u001b[0m\u001b[0m\n\u001b[0;32m-> 3458\u001b[0;31m             \u001b[0mindexer\u001b[0m \u001b[0;34m=\u001b[0m \u001b[0mself\u001b[0m\u001b[0;34m.\u001b[0m\u001b[0mcolumns\u001b[0m\u001b[0;34m.\u001b[0m\u001b[0mget_loc\u001b[0m\u001b[0;34m(\u001b[0m\u001b[0mkey\u001b[0m\u001b[0;34m)\u001b[0m\u001b[0;34m\u001b[0m\u001b[0;34m\u001b[0m\u001b[0m\n\u001b[0m\u001b[1;32m   3459\u001b[0m             \u001b[0;32mif\u001b[0m \u001b[0mis_integer\u001b[0m\u001b[0;34m(\u001b[0m\u001b[0mindexer\u001b[0m\u001b[0;34m)\u001b[0m\u001b[0;34m:\u001b[0m\u001b[0;34m\u001b[0m\u001b[0;34m\u001b[0m\u001b[0m\n\u001b[1;32m   3460\u001b[0m                 \u001b[0mindexer\u001b[0m \u001b[0;34m=\u001b[0m \u001b[0;34m[\u001b[0m\u001b[0mindexer\u001b[0m\u001b[0;34m]\u001b[0m\u001b[0;34m\u001b[0m\u001b[0;34m\u001b[0m\u001b[0m\n",
      "\u001b[0;32m/usr/local/lib/python3.7/dist-packages/pandas/core/indexes/base.py\u001b[0m in \u001b[0;36mget_loc\u001b[0;34m(self, key, method, tolerance)\u001b[0m\n\u001b[1;32m   3361\u001b[0m                 \u001b[0;32mreturn\u001b[0m \u001b[0mself\u001b[0m\u001b[0;34m.\u001b[0m\u001b[0m_engine\u001b[0m\u001b[0;34m.\u001b[0m\u001b[0mget_loc\u001b[0m\u001b[0;34m(\u001b[0m\u001b[0mcasted_key\u001b[0m\u001b[0;34m)\u001b[0m\u001b[0;34m\u001b[0m\u001b[0;34m\u001b[0m\u001b[0m\n\u001b[1;32m   3362\u001b[0m             \u001b[0;32mexcept\u001b[0m \u001b[0mKeyError\u001b[0m \u001b[0;32mas\u001b[0m \u001b[0merr\u001b[0m\u001b[0;34m:\u001b[0m\u001b[0;34m\u001b[0m\u001b[0;34m\u001b[0m\u001b[0m\n\u001b[0;32m-> 3363\u001b[0;31m                 \u001b[0;32mraise\u001b[0m \u001b[0mKeyError\u001b[0m\u001b[0;34m(\u001b[0m\u001b[0mkey\u001b[0m\u001b[0;34m)\u001b[0m \u001b[0;32mfrom\u001b[0m \u001b[0merr\u001b[0m\u001b[0;34m\u001b[0m\u001b[0;34m\u001b[0m\u001b[0m\n\u001b[0m\u001b[1;32m   3364\u001b[0m \u001b[0;34m\u001b[0m\u001b[0m\n\u001b[1;32m   3365\u001b[0m         \u001b[0;32mif\u001b[0m \u001b[0mis_scalar\u001b[0m\u001b[0;34m(\u001b[0m\u001b[0mkey\u001b[0m\u001b[0;34m)\u001b[0m \u001b[0;32mand\u001b[0m \u001b[0misna\u001b[0m\u001b[0;34m(\u001b[0m\u001b[0mkey\u001b[0m\u001b[0;34m)\u001b[0m \u001b[0;32mand\u001b[0m \u001b[0;32mnot\u001b[0m \u001b[0mself\u001b[0m\u001b[0;34m.\u001b[0m\u001b[0mhasnans\u001b[0m\u001b[0;34m:\u001b[0m\u001b[0;34m\u001b[0m\u001b[0;34m\u001b[0m\u001b[0m\n",
      "\u001b[0;31mKeyError\u001b[0m: 'Unit of Sale'"
     ]
    }
   ],
   "source": [
    "pumpkins['Unit of Sale'].unique()"
   ]
  },
  {
   "cell_type": "code",
   "execution_count": null,
   "id": "f545ffb5",
   "metadata": {
    "executionInfo": {
     "elapsed": 15,
     "status": "aborted",
     "timestamp": 1665409016571,
     "user": {
      "displayName": "Maya PESSEL",
      "userId": "07024533726658810336"
     },
     "user_tz": -120
    },
    "id": "f545ffb5"
   },
   "outputs": [],
   "source": [
    "pumpkins['Package'].unique()"
   ]
  },
  {
   "cell_type": "markdown",
   "id": "fe550477",
   "metadata": {
    "id": "fe550477"
   },
   "source": [
    "En creusant dans les données originales, il est intéressant de constater que tous les produits dont la `Unit of Sale` est égale à \"EACH\" ou \"PER BIN\" ont également le type de colis par inch, par bin ou \"each\". Les citrouilles semblent être très difficiles à peser de manière cohérente.\n",
    "\n",
    "Pour pouvoir comparer les prix de nos citrouilles de manière cohérente, nous devons transformer nos données afin d'obtenir le même rapport prix/quantité dans chaque ligne de données. \n",
    "\n",
    "Pour y parvenir, nous pouvons filtrer nos données en sélectionnant uniquement les citrouilles dont la colonne `Package` contient des mesures par \"bushel\". Ou nous pourrions essayer de normaliser le prix pour 1 livre de citrouilles, ou bien pour 1 kg de citrouilles.\n",
    "\n",
    "Toute cette étude sur les [boisseaux](https://fr.wikipedia.org/wiki/Boisseau) de citrouilles montre à quel point il est important de comprendre la nature de vos données !"
   ]
  },
  {
   "cell_type": "markdown",
   "id": "33bf8305",
   "metadata": {
    "id": "33bf8305"
   },
   "source": [
    "Note : *Selon [The Spruce Eats](https://www.thespruceeats.com/how-much-is-a-bushel-1389308), le poids d'un boisseau dépend du type de produit, car il s'agit d'une mesure de volume. \" Un boisseau de tomates, par exemple, est censé peser 56 livres... \". Les feuilles et les légumes verts occupent plus d'espace et pèsent moins. Ainsi, un boisseau d'épinards ne pèse que 10 livres \"*.\n",
    "\n",
    "Note : *Avez-vous remarqué que les citrouilles vendues au demi-boisseau sont très chères ? Pouvez-vous comprendre pourquoi ? Indice : les petites citrouilles sont beaucoup plus chères que les grosses, probablement parce qu'il y en a beaucoup plus par boisseau, étant donné l'espace utilisé par une grosse citrouille."
   ]
  },
  {
   "cell_type": "code",
   "execution_count": null,
   "id": "f9a8870e",
   "metadata": {
    "executionInfo": {
     "elapsed": 14,
     "status": "aborted",
     "timestamp": 1665409016572,
     "user": {
      "displayName": "Maya PESSEL",
      "userId": "07024533726658810336"
     },
     "user_tz": -120
    },
    "id": "f9a8870e"
   },
   "outputs": [],
   "source": [
    "# Your code"
   ]
  },
  {
   "cell_type": "markdown",
   "id": "545b5be9",
   "metadata": {
    "id": "545b5be9"
   },
   "source": [
    "#### Visualisation de nos données"
   ]
  },
  {
   "cell_type": "markdown",
   "id": "b251883c",
   "metadata": {
    "id": "b251883c"
   },
   "source": [
    "La représentation visuelle de vos données peut vous permettre de découvrir des relations cachées dont vous pouvez tirer parti. Vos visualisations peuvent également vous aider à découvrir des biais ou des données déséquilibrées.\n",
    "\n",
    "Pour avoir une première intuition sur nos données :\n",
    "* Tracez un diagramme à barres du prix moyen des citrouilles par mois.\n",
    "* Tracez un nuage de points des prix des citrouilles par mois.\n",
    "\n",
    "Que remarquons-nous sur nos graphiques ? Avons-nous des valeurs aberrantes ? \n",
    "Si vous voulez vous rappeler ce qu'est une valeur aberrante et comment les traiter, je vous suggère [l'article suivant](https://www.analyticsvidhya.com/blog/2021/05/detecting-and-treating-outliers-treating-the-odd-one-out/)."
   ]
  },
  {
   "cell_type": "code",
   "execution_count": null,
   "id": "44ee8428",
   "metadata": {
    "executionInfo": {
     "elapsed": 14,
     "status": "aborted",
     "timestamp": 1665409016573,
     "user": {
      "displayName": "Maya PESSEL",
      "userId": "07024533726658810336"
     },
     "user_tz": -120
    },
    "id": "44ee8428"
   },
   "outputs": [],
   "source": [
    "#Your code"
   ]
  },
  {
   "cell_type": "markdown",
   "id": "42dcb412",
   "metadata": {
    "id": "42dcb412"
   },
   "source": [
    "Vous êtes maintenant prêt à plonger plus profondément dans la régression. Alors que la visualisation vous permet de donner un sens aux données, le véritable pouvoir de l'apprentissage automatique provient de la création de modèles. Les modèles sont formés sur des données antérieures pour capturer automatiquement les liens entre les données, et ils vous permettent de prédire les résultats pour les nouvelles données."
   ]
  },
  {
   "cell_type": "markdown",
   "id": "48fefdf8",
   "metadata": {
    "id": "48fefdf8"
   },
   "source": [
    "## Diviser nos données"
   ]
  },
  {
   "cell_type": "markdown",
   "id": "7344ae71",
   "metadata": {
    "id": "7344ae71"
   },
   "source": [
    "Avant de former notre modèle, nous devons diviser votre ensemble de données en deux ou plusieurs parties de taille inégale qui représentent toujours bien nos données.\n",
    "\n",
    "* Données d'entraînement (Training data). Cette partie de l'ensemble de données est destinée à l'entraînement de votre modèle. Cet ensemble constitue la majorité de l'ensemble de données original.\n",
    "* Test (Testing data). C'est cette partie de l'ensemble de données, qui constitue la minorité de votre ensemble de données, que vous utilisez pour evaluer la performance du modèle construit.\n",
    "* Validation. Un ensemble de validation est un groupe indépendant d'exemples que vous utilisez pour ajuster les hyperparamètres du modèle, ou son architecture, afin de l'améliorer. Selon la taille de vos données et la question que vous posez, vous n'aurez peut-être pas besoin de construire ce troisième ensemble. \n",
    "\n",
    "Nous n'utiliserons pas de données de validation aujourd'hui."
   ]
  },
  {
   "cell_type": "markdown",
   "id": "29f94cc4",
   "metadata": {
    "id": "29f94cc4"
   },
   "source": [
    "Nous commençons donc par séparer les valeurs d'entrée ( features ) et la sortie attendue ( label ) dans des tableaux séparés :"
   ]
  },
  {
   "cell_type": "code",
   "execution_count": null,
   "id": "6ad93473",
   "metadata": {
    "executionInfo": {
     "elapsed": 14,
     "status": "aborted",
     "timestamp": 1665409016573,
     "user": {
      "displayName": "Maya PESSEL",
      "userId": "07024533726658810336"
     },
     "user_tz": -120
    },
    "id": "6ad93473"
   },
   "outputs": [],
   "source": [
    "X = new_pumpkins['DayOfYear'].to_numpy().reshape(-1,1)\n",
    "y = new_pumpkins['Price']"
   ]
  },
  {
   "cell_type": "markdown",
   "id": "de92a0ac",
   "metadata": {
    "id": "de92a0ac"
   },
   "source": [
    "*Notez que nous avons dû effectuer un remodelage des données d'entrée. La fonction de régression linéaire attend un tableau 2D, où chaque ligne du tableau correspond à un vecteur de caractéristiques d'entrée. Dans notre cas, puisque nous n'avons qu'une seule entrée, nous avons besoin d'un tableau de forme N×1, où N est la taille de l'ensemble de données.*"
   ]
  },
  {
   "cell_type": "markdown",
   "id": "17b611b2",
   "metadata": {
    "id": "17b611b2"
   },
   "source": [
    "Ensuite, nous devons diviser les données en ensembles de données de training et de test, afin de pouvoir valider notre modèle par la suite:"
   ]
  },
  {
   "cell_type": "code",
   "execution_count": null,
   "id": "b803e841",
   "metadata": {
    "executionInfo": {
     "elapsed": 15,
     "status": "aborted",
     "timestamp": 1665409016574,
     "user": {
      "displayName": "Maya PESSEL",
      "userId": "07024533726658810336"
     },
     "user_tz": -120
    },
    "id": "b803e841"
   },
   "outputs": [],
   "source": [
    "X_train, X_test, y_train, y_test = train_test_split(X, y, test_size=0.3)"
   ]
  },
  {
   "cell_type": "markdown",
   "id": "4e6ba376",
   "metadata": {
    "id": "4e6ba376"
   },
   "source": [
    "## Entraînement de notre modèle"
   ]
  },
  {
   "cell_type": "markdown",
   "id": "adeacffd",
   "metadata": {
    "id": "adeacffd"
   },
   "source": [
    "En utilisant vos données d'entraînement, votre objectif est de construire un modèle, ou une représentation statistique de vos données, en utilisant divers algorithmes pour l'entraîner, ici un modèle de régression. L'entraînement d'un modèle l'expose aux données et lui permet de faire des suppositions sur les patterns perçus qu'il découvre."
   ]
  },
  {
   "cell_type": "markdown",
   "id": "bcafe47d",
   "metadata": {
    "id": "bcafe47d"
   },
   "source": [
    "Pour un bref rappel, le but d'une régression linéaire est de pouvoir tracer une ligne pour :\n",
    "\n",
    "* Montrer la relation entre les variables, entre une variable dépendante et une variable indépendante.\n",
    "* Faire des prédictions précises sur l'emplacement d'un nouveau point de données par rapport à cette ligne.\n",
    "\n",
    "Pour cela le modèle calcule la distance entre tous les points de données autour de la ligne de régression. Idéalement, cette distance est la plus petite possible."
   ]
  },
  {
   "cell_type": "markdown",
   "id": "9f005f7d",
   "metadata": {
    "id": "9f005f7d"
   },
   "source": [
    "Si vous souhaitez en savoir plus sur la régression linéaire et la régression polynomiale, voici un [bon article](https://haltode.fr/algo/ia/apprentissage_artificiel/regression_lin_poly.html) qui récapitule les concepts clés. "
   ]
  },
  {
   "cell_type": "markdown",
   "id": "5abf262a",
   "metadata": {
    "id": "5abf262a"
   },
   "source": [
    "La création du modèle de régression linéaire proprement dit ne nécessite qu'une ligne de code. Nous définissons l'objet LinearRegression et l'adaptons à nos données à l'aide de la méthode fit :"
   ]
  },
  {
   "cell_type": "code",
   "execution_count": null,
   "id": "9ceca5a2",
   "metadata": {
    "executionInfo": {
     "elapsed": 17,
     "status": "aborted",
     "timestamp": 1665409016576,
     "user": {
      "displayName": "Maya PESSEL",
      "userId": "07024533726658810336"
     },
     "user_tz": -120
    },
    "id": "9ceca5a2"
   },
   "outputs": [],
   "source": [
    "lin_reg = LinearRegression().fit(X_train,y_train)"
   ]
  },
  {
   "cell_type": "markdown",
   "id": "dd848874",
   "metadata": {
    "id": "dd848874"
   },
   "source": [
    "L'objet `LinearRegression` après entrainement contient tous les coefficients de la régression, qui peuvent être accédés en utilisant la propriété `.coef_`. Dans notre cas, il n'y a qu'un seul coefficient. Nous pouvons également accéder au point d'intersection de la régression avec l'axe des Y en utilisant la propriété `lin_reg.intercept_`. "
   ]
  },
  {
   "cell_type": "markdown",
   "id": "2e680fac",
   "metadata": {
    "id": "2e680fac"
   },
   "source": [
    "## Évaluation de notre modèle"
   ]
  },
  {
   "cell_type": "markdown",
   "id": "29f40520",
   "metadata": {
    "id": "29f40520"
   },
   "source": [
    "Pour voir à quel point notre modèle est précis, nous pouvons prédire les prix sur un ensemble de données de test, puis mesurer la perte de nos prédictions par rapport aux valeurs attendues. Pour ce faire, on utilise la mesure de l'erreur quadratique moyenne ( root mean square error = RMSE), qui est la racine carrée de la moyenne de toutes les différences au carré entre la valeur attendue et la valeur prédite. (Pour plus d'explications : https://www.youtube.com/watch?v=N6y5wqdIBas) "
   ]
  },
  {
   "cell_type": "code",
   "execution_count": null,
   "id": "9a8840cf",
   "metadata": {
    "executionInfo": {
     "elapsed": 16,
     "status": "aborted",
     "timestamp": 1665409016576,
     "user": {
      "displayName": "Maya PESSEL",
      "userId": "07024533726658810336"
     },
     "user_tz": -120
    },
    "id": "9a8840cf"
   },
   "outputs": [],
   "source": [
    "pred = lin_reg.predict(X_test)\n",
    "\n",
    "rmse = np.sqrt(mean_squared_error(y_test,pred))\n",
    "print(f'Mean error: {mse:3.3} ({rmse/np.mean(pred)*100:3.3}%)')"
   ]
  },
  {
   "cell_type": "markdown",
   "id": "d128d38a",
   "metadata": {
    "id": "d128d38a"
   },
   "source": [
    "Un autre indicateur de la qualité du modèle est le coefficient de détermination, qui peut être obtenu comme suit :"
   ]
  },
  {
   "cell_type": "code",
   "execution_count": null,
   "id": "267c54ac",
   "metadata": {
    "executionInfo": {
     "elapsed": 18,
     "status": "aborted",
     "timestamp": 1665409016578,
     "user": {
      "displayName": "Maya PESSEL",
      "userId": "07024533726658810336"
     },
     "user_tz": -120
    },
    "id": "267c54ac"
   },
   "outputs": [],
   "source": [
    "score = lin_reg.score(X_train,y_train)\n",
    "print('Model determination: ', score)"
   ]
  },
  {
   "cell_type": "markdown",
   "id": "dc5e4964",
   "metadata": {
    "id": "dc5e4964"
   },
   "source": [
    "Si la valeur est 0, cela signifie que le modèle ne prend pas en compte les données d'entrée, et agit comme le pire prédicteur linéaire, qui est simplement une valeur moyenne du résultat. La valeur de 1 signifie que nous pouvons parfaitement prédire toutes les sorties attendues. (Pour plus d'explications : https://www.youtube.com/watch?v=6LBTmVv3K_Q)"
   ]
  },
  {
   "cell_type": "markdown",
   "id": "134d56aa",
   "metadata": {
    "id": "134d56aa"
   },
   "source": [
    "**A quel point votre modèle arrive à prédire correctement des données?**"
   ]
  },
  {
   "cell_type": "markdown",
   "id": "e2801f8f",
   "metadata": {
    "id": "e2801f8f"
   },
   "source": [
    "Nous pouvons également tracer les données de test avec la ligne de régression pour mieux voir comment la régression fonctionne dans notre cas :"
   ]
  },
  {
   "cell_type": "code",
   "execution_count": null,
   "id": "733d047d",
   "metadata": {
    "executionInfo": {
     "elapsed": 18,
     "status": "aborted",
     "timestamp": 1665409016578,
     "user": {
      "displayName": "Maya PESSEL",
      "userId": "07024533726658810336"
     },
     "user_tz": -120
    },
    "id": "733d047d"
   },
   "outputs": [],
   "source": [
    "plt.scatter(X_train,y_train, s = 5) #Training data\n",
    "plt.scatter(X_test,y_test, color = \"orange\", s = 5) #Test data\n",
    "plt.plot(X_test, pred) #Regression line\n",
    "plt.xlabel(\"day of year\")\n",
    "plt.ylabel(\"price\")\n",
    "plt.show()"
   ]
  },
  {
   "cell_type": "markdown",
   "id": "6e18e02f",
   "metadata": {
    "id": "6e18e02f"
   },
   "source": [
    "**Quel prix de la citrouille notre modèle prévoit-il pour le 10 octobre ?**"
   ]
  },
  {
   "cell_type": "markdown",
   "id": "98993fc2",
   "metadata": {
    "id": "98993fc2"
   },
   "source": [
    "## Iteration"
   ]
  },
  {
   "cell_type": "markdown",
   "id": "5f29aeaf",
   "metadata": {
    "id": "5f29aeaf"
   },
   "source": [
    "Maintenant que nous savons comment créer notre modèle, notre objectif est de l'améliorer encore. Pour y parvenir, nous avons principalement trois options :\n",
    "* Peut-être que dans notre cas, le prix dépend de la variété des citrouilles ? Essayons de ré-entraîner un modèle avec le prix, la variété et les jours de l'année.\n",
    "* Peut-être que nos données ne suivent pas une relation linéaire ? Essayez de ré-entraîner un modèle en utilisant la régression polynomiale au lieu de la régression linéaire.\n",
    "* Réévaluer notre question. Notre question est-elle suffisamment précise ? Nos données nous permettent-elles de former un modèle qui puisse répondre à notre question ? "
   ]
  },
  {
   "cell_type": "markdown",
   "id": "713795be",
   "metadata": {
    "id": "713795be"
   },
   "source": [
    "#### Ajout des variétés de citrouille comme données d'entrée pour notre modèle "
   ]
  },
  {
   "cell_type": "markdown",
   "id": "8301deba",
   "metadata": {
    "id": "8301deba"
   },
   "source": [
    "Dans un monde idéal, nous voulons être en mesure de prédire les prix de différentes variétés de citrouilles en utilisant le même modèle. Cependant, la colonne `Variety` est quelque peu différente des colonnes comme `Average Price`, car elle contient des valeurs non numériques. Ces colonnes sont dites catégoriques."
   ]
  },
  {
   "cell_type": "markdown",
   "id": "144687c3",
   "metadata": {
    "id": "144687c3"
   },
   "source": [
    "Tracez un scatterplot du prix en fonction du jour de l'année avec des couleurs pour chaque variété de nos citrouilles. \n",
    "* Qu'observez-vous ? \n",
    "* Combien de citrouilles avons-nous dans chaque variété ? \n",
    "* La même variété de citrouilles est-elle vendue toute l'année ?"
   ]
  },
  {
   "cell_type": "code",
   "execution_count": null,
   "id": "6e2faf89",
   "metadata": {
    "executionInfo": {
     "elapsed": 19,
     "status": "aborted",
     "timestamp": 1665409016579,
     "user": {
      "displayName": "Maya PESSEL",
      "userId": "07024533726658810336"
     },
     "user_tz": -120
    },
    "id": "6e2faf89"
   },
   "outputs": [],
   "source": [
    "#Your code"
   ]
  },
  {
   "cell_type": "markdown",
   "id": "96fb356e",
   "metadata": {
    "id": "96fb356e"
   },
   "source": [
    "Pour prendre en compte la variété, nous devons d'abord la convertir sous forme numérique, ou la coder. Il y a plusieurs façons de le faire :\n",
    "\n",
    "* Le codage numérique simple va construire une table des différentes variétés, puis remplacer le nom de la variété par un index dans cette table. Ce n'est pas la meilleure idée pour la régression linéaire, parce que la régression linéaire prend la valeur numérique réelle de l'indice, et l'ajoute au résultat, en le multipliant par un certain coefficient. Dans notre cas, la relation entre le numéro de l'indice et le prix est clairement non linéaire, même si nous nous assurons que les indices sont ordonnés d'une manière spécifique.\n",
    "* One hot encoding remplacera la colonne Variété par des colonnes différentes, une pour chaque variété. Chaque colonne contiendra 1 si la ligne correspondante est d'une variété donnée, et 0 sinon. Cela signifie qu'il y aura quatre coefficients dans la régression linéaire, un pour chaque variété de citrouille, responsable du \"prix de départ\" (ou plutôt du \"prix supplémentaire\") pour cette variété particulière.\n"
   ]
  },
  {
   "cell_type": "markdown",
   "id": "f44d8de6",
   "metadata": {
    "id": "f44d8de6"
   },
   "source": [
    "Le code ci-dessous montre comment nous pouvons coder un one hot encoding:"
   ]
  },
  {
   "cell_type": "code",
   "execution_count": null,
   "id": "cd2b572b",
   "metadata": {
    "executionInfo": {
     "elapsed": 19,
     "status": "aborted",
     "timestamp": 1665409016580,
     "user": {
      "displayName": "Maya PESSEL",
      "userId": "07024533726658810336"
     },
     "user_tz": -120
    },
    "id": "cd2b572b"
   },
   "outputs": [],
   "source": [
    "pd.get_dummies(pumpkins['Variety'])"
   ]
  },
  {
   "cell_type": "markdown",
   "id": "d9014820",
   "metadata": {
    "id": "d9014820"
   },
   "source": [
    "Maintenant, ajoutons toutes nos étapes ensemble :"
   ]
  },
  {
   "cell_type": "code",
   "execution_count": null,
   "id": "ecddaa04",
   "metadata": {
    "executionInfo": {
     "elapsed": 20,
     "status": "aborted",
     "timestamp": 1665409016581,
     "user": {
      "displayName": "Maya PESSEL",
      "userId": "07024533726658810336"
     },
     "user_tz": -120
    },
    "id": "ecddaa04"
   },
   "outputs": [],
   "source": [
    "#Seperating input and output\n",
    "X = pd.get_dummies(pumpkins['Variety']).join(new_pumpkins['DayOfYear'])\n",
    "y = new_pumpkins['Price']\n",
    "\n",
    "# make train-test split\n",
    "X_train, X_test, y_train, y_test = train_test_split(X, y, test_size=0.2)\n",
    "\n",
    "# Train model\n",
    "pipeline = LinearRegression().fit(X_train,y_train)\n",
    "\n",
    "# predict results for test data\n",
    "pred = pipeline.predict(X_test)\n",
    "\n",
    "# calculate MSE and determination\n",
    "mse = np.sqrt(mean_squared_error(y_test,pred))\n",
    "print(f'Mean error: {mse:3.3} ({mse/np.mean(pred)*100:3.3}%)')\n",
    "\n",
    "score = pipeline.score(X_train,y_train)\n",
    "print('Model determination: ', score)"
   ]
  },
  {
   "cell_type": "markdown",
   "id": "954e1158",
   "metadata": {
    "id": "954e1158"
   },
   "source": [
    "**A quel point votre modèle arrive à prédire correctement des données maintenant ?**"
   ]
  },
  {
   "cell_type": "markdown",
   "id": "25fce85b",
   "metadata": {
    "id": "25fce85b"
   },
   "source": [
    "#### Regression Polynomiale"
   ]
  },
  {
   "cell_type": "markdown",
   "id": "10b13da2",
   "metadata": {
    "id": "10b13da2"
   },
   "source": [
    "Un autre type de régression est la régression polynomiale. Bien qu'il existe parfois une relation linéaire entre les variables (plus le volume est important, plus le prix est élevé), il arrive que ces relations ne puissent pas être représentées par un plan ou une ligne droite.\n",
    "\n",
    "Regardez à nouveau la relation entre la date et le prix. Ce nuage de points vous semble-t-il devoir être nécessairement analysé par une ligne droite ? Les prix ne peuvent-ils pas fluctuer ? Dans ce cas, vous pouvez essayer la régression polynomiale.\n",
    "\n",
    "La régression polynomiale crée une ligne courbe pour mieux s'adapter aux données non linéaires. Dans notre cas, si nous incluons une variable `DayOfYear` au carré dans les données d'entrée, nous devrions pouvoir ajuster nos données avec une courbe parabolique, qui aura un minimum à un certain point de l'année.\n",
    "\n",
    "Scikit-learn comprend une API de pipeline utile pour combiner différentes étapes du traitement des données. Un pipeline est une chaîne d'estimateurs. Dans notre cas, nous allons créer un pipeline qui ajoute d'abord des caractéristiques polynomiales à notre modèle, puis entraîne la régression :"
   ]
  },
  {
   "cell_type": "code",
   "execution_count": null,
   "id": "4aa28a8c",
   "metadata": {
    "executionInfo": {
     "elapsed": 22,
     "status": "aborted",
     "timestamp": 1665409016583,
     "user": {
      "displayName": "Maya PESSEL",
      "userId": "07024533726658810336"
     },
     "user_tz": -120
    },
    "id": "4aa28a8c"
   },
   "outputs": [],
   "source": [
    "from sklearn.preprocessing import PolynomialFeatures\n",
    "from sklearn.pipeline import make_pipeline\n",
    "\n",
    "pipeline = make_pipeline(PolynomialFeatures(2), LinearRegression())\n",
    "\n",
    "pipeline.fit(X_train,y_train)"
   ]
  },
  {
   "cell_type": "markdown",
   "id": "713840fe",
   "metadata": {
    "id": "713840fe"
   },
   "source": [
    "Maintenant, si on met toutes nos étapes ensemble, on obtient :"
   ]
  },
  {
   "cell_type": "code",
   "execution_count": null,
   "id": "a5f75d8b",
   "metadata": {
    "executionInfo": {
     "elapsed": 23,
     "status": "aborted",
     "timestamp": 1665409016584,
     "user": {
      "displayName": "Maya PESSEL",
      "userId": "07024533726658810336"
     },
     "user_tz": -120
    },
    "id": "a5f75d8b",
    "scrolled": false
   },
   "outputs": [],
   "source": [
    "from sklearn.preprocessing import PolynomialFeatures\n",
    "from sklearn.pipeline import make_pipeline\n",
    "\n",
    "#Seperating input and output\n",
    "X = new_pumpkins['DayOfYear'].to_numpy().reshape(-1,1)\n",
    "y = new_pumpkins['Price']\n",
    "\n",
    "# make train-test split\n",
    "X_train, X_test, y_train, y_test = train_test_split(X, y, test_size=0.2)\n",
    "\n",
    "# Train model\n",
    "pipeline = make_pipeline(PolynomialFeatures(4), LinearRegression())\n",
    "pipeline.fit(X_train,y_train)\n",
    "\n",
    "# predict results for test data\n",
    "pred = pipeline.predict(X_test)\n",
    "\n",
    "# calculate MSE and determination\n",
    "mse = np.sqrt(mean_squared_error(y_test,pred))\n",
    "print(f'Mean error: {mse:3.3} ({mse/np.mean(pred)*100:3.3}%)')\n",
    "\n",
    "score = pipeline.score(X_train,y_train)\n",
    "print('Model determination: ', score)\n",
    "\n",
    "plt.scatter(X_train,y_train, s = 5) #Training data\n",
    "plt.scatter(X_test,y_test, color = \"orange\", s = 5) #Test data\n",
    "reg_x, reg_y = zip(*sorted(zip(X_test[:,0], pred))) #Sorting data to get a nice plot\n",
    "plt.plot(reg_x, reg_y, '--bo') #Regression line\n",
    "plt.xlabel(\"day of year\")\n",
    "plt.ylabel(\"price\")\n",
    "plt.show()\n",
    "\n",
    "\n"
   ]
  },
  {
   "cell_type": "markdown",
   "id": "eaabadc3",
   "metadata": {
    "id": "eaabadc3"
   },
   "source": [
    "**A quel point votre modèle arrive à prédire correctement des données maintenant ?**"
   ]
  },
  {
   "cell_type": "markdown",
   "id": "03874cc1",
   "metadata": {
    "id": "03874cc1"
   },
   "source": [
    "## A vous de jouer ! \n",
    "\n",
    "Maintenant que nous avons vu les étapes clés dans la création d'un modèle de regression, à vous de creer vos itérations pour créer le meilleur modèle possible ! \n",
    "Vous serez évalués sous la forme d'un rapport. Le template du rapport est disponible dans le [drive](https://docs.google.com/document/d/16arpyMok-Z4hC0_GJ_7URn6oxHMfvdunM0Tdk5oxbgs/edit#).\n",
    "Pensez à bien visualiser vos données pour bien les comprendre et soyez créatifs :)"
   ]
  },
  {
   "cell_type": "code",
   "execution_count": null,
   "id": "c002faf6",
   "metadata": {
    "executionInfo": {
     "elapsed": 24,
     "status": "aborted",
     "timestamp": 1665409016585,
     "user": {
      "displayName": "Maya PESSEL",
      "userId": "07024533726658810336"
     },
     "user_tz": -120
    },
    "id": "c002faf6"
   },
   "outputs": [],
   "source": []
  }
 ],
 "metadata": {
  "colab": {
   "provenance": []
  },
  "kernelspec": {
   "display_name": "Python 3 (ipykernel)",
   "language": "python",
   "name": "python3"
  },
  "language_info": {
   "codemirror_mode": {
    "name": "ipython",
    "version": 3
   },
   "file_extension": ".py",
   "mimetype": "text/x-python",
   "name": "python",
   "nbconvert_exporter": "python",
   "pygments_lexer": "ipython3",
   "version": "3.10.6"
  }
 },
 "nbformat": 4,
 "nbformat_minor": 5
}
