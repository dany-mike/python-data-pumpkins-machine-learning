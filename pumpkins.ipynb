{
 "cells": [
  {
   "cell_type": "code",
   "execution_count": 5,
   "metadata": {},
   "outputs": [
    {
     "name": "stdout",
     "output_type": "stream",
     "text": [
      "[270. 270. 160. ... 275. 275. 275.]\n",
      "[280. 280. 160. ... 275. 275. 275.]\n",
      "['24 inch bins' '24 inch bins' '24 inch bins' ... '36 inch bins'\n",
      " '36 inch bins' '36 inch bins']\n",
      "['4/29/17' '5/6/17' '9/24/16' ... '9/27/16' '9/28/16' '9/29/16']\n"
     ]
    }
   ],
   "source": [
    "from sklearn.linear_model import LinearRegression\n",
    "from sklearn.metrics import mean_squared_error\n",
    "from sklearn.model_selection import train_test_split\n",
    "import numpy as np\n",
    "import pandas as pd\n",
    "\n",
    "# Functions\n",
    "def getListByCsvColumn(column):\n",
    "    return pumpkins[column].to_numpy()\n",
    "\n",
    "pumpkins = pd.read_csv('./US-pumpkins.csv')\n",
    "\n",
    "print(getListByCsvColumn('Low Price'))\n",
    "print(getListByCsvColumn('High Price'))\n",
    "print(getListByCsvColumn('Package'))\n",
    "print(getListByCsvColumn('Date'))\n",
    "\n",
    "# pumpkins.head()\n",
    "\n",
    "\n",
    "\n"
   ]
  }
 ],
 "metadata": {
  "kernelspec": {
   "display_name": "Python 3.10.4 64-bit",
   "language": "python",
   "name": "python3"
  },
  "language_info": {
   "codemirror_mode": {
    "name": "ipython",
    "version": 3
   },
   "file_extension": ".py",
   "mimetype": "text/x-python",
   "name": "python",
   "nbconvert_exporter": "python",
   "pygments_lexer": "ipython3",
   "version": "3.10.6"
  },
  "orig_nbformat": 4,
  "vscode": {
   "interpreter": {
    "hash": "31f2aee4e71d21fbe5cf8b01ff0e069b9275f58929596ceb00d14d90e3e16cd6"
   }
  }
 },
 "nbformat": 4,
 "nbformat_minor": 2
}
