{
 "cells": [
  {
   "cell_type": "code",
   "execution_count": 6,
   "metadata": {},
   "outputs": [
    {
     "ename": "ModuleNotFoundError",
     "evalue": "No module named 'sklearn'",
     "output_type": "error",
     "traceback": [
      "\u001b[0;31m---------------------------------------------------------------------------\u001b[0m",
      "\u001b[0;31mModuleNotFoundError\u001b[0m                       Traceback (most recent call last)",
      "\u001b[0;32m<ipython-input-6-229f11b57393>\u001b[0m in \u001b[0;36m<module>\u001b[0;34m\u001b[0m\n\u001b[0;32m----> 1\u001b[0;31m \u001b[0;32mfrom\u001b[0m \u001b[0msklearn\u001b[0m\u001b[0;34m.\u001b[0m\u001b[0mlinear_model\u001b[0m \u001b[0;32mimport\u001b[0m \u001b[0mLinearRegression\u001b[0m\u001b[0;34m\u001b[0m\u001b[0;34m\u001b[0m\u001b[0m\n\u001b[0m\u001b[1;32m      2\u001b[0m \u001b[0;32mfrom\u001b[0m \u001b[0msklearn\u001b[0m\u001b[0;34m.\u001b[0m\u001b[0mmetrics\u001b[0m \u001b[0;32mimport\u001b[0m \u001b[0mmean_squared_error\u001b[0m\u001b[0;34m\u001b[0m\u001b[0;34m\u001b[0m\u001b[0m\n\u001b[1;32m      3\u001b[0m \u001b[0;32mfrom\u001b[0m \u001b[0msklearn\u001b[0m\u001b[0;34m.\u001b[0m\u001b[0mmodel_selection\u001b[0m \u001b[0;32mimport\u001b[0m \u001b[0mtrain_test_split\u001b[0m\u001b[0;34m\u001b[0m\u001b[0;34m\u001b[0m\u001b[0m\n\u001b[1;32m      4\u001b[0m \u001b[0;32mimport\u001b[0m \u001b[0mnumpy\u001b[0m \u001b[0;32mas\u001b[0m \u001b[0mnp\u001b[0m\u001b[0;34m\u001b[0m\u001b[0;34m\u001b[0m\u001b[0m\n\u001b[1;32m      5\u001b[0m \u001b[0;32mimport\u001b[0m \u001b[0mpandas\u001b[0m \u001b[0;32mas\u001b[0m \u001b[0mpd\u001b[0m\u001b[0;34m\u001b[0m\u001b[0;34m\u001b[0m\u001b[0m\n",
      "\u001b[0;31mModuleNotFoundError\u001b[0m: No module named 'sklearn'"
     ]
    }
   ],
   "source": [
    "from sklearn.linear_model import LinearRegression\n",
    "from sklearn.metrics import mean_squared_error\n",
    "from sklearn.model_selection import train_test_split\n",
    "import numpy as np\n",
    "import pandas as pd\n",
    "from datetime import datetime\n",
    "import matplotlib.pyplot as plt\n",
    "from datetime import datetime, date\n",
    "\n",
    "\n",
    "# Functions\n",
    "def getListByCsvColumn(column):\n",
    "    return pumpkins[column].to_list()\n",
    "\n",
    "pumpkins = pd.read_csv('./US-pumpkins.csv')\n",
    "\n",
    "low_price = getListByCsvColumn('Low Price')\n",
    "high_price = getListByCsvColumn('High Price')\n",
    "dateYear = getListByCsvColumn('Date')\n",
    "package = getListByCsvColumn('Package')\n",
    "\n",
    "\n",
    "dayOfYear = []\n",
    "average_price = []\n",
    "\n",
    "for h_index, h_price in enumerate(high_price):\n",
    "    for l_index, l_price in enumerate(low_price):\n",
    "        if h_index == l_index:\n",
    "           a_price = (l_price + h_price) /2\n",
    "           average_price.append(a_price)\n",
    "\n",
    "# print(\"AVERAGE PRICE\")\n",
    "# print(average_price)\n",
    "\n",
    "dayOfYearList = []\n",
    "\n",
    "for d in dateYear:\n",
    "    splittedDate = d.split('/')\n",
    "    day_of_year = date(2000 + int(splittedDate[2]), int(splittedDate[0]), int(splittedDate[1])).timetuple().tm_yday\n",
    "    dayOfYearList.append(day_of_year)\n",
    "\n",
    "# print(\"DAY OF YEAR LIST\")\n",
    "# print(dayOfYearList)\n",
    "\n",
    "X_train, X_test, y_train, y_test = train_test_split(np.array(dayOfYearList).reshape(-1, 1), np.array(average_price).reshape(-1, 1), test_size=0.2)\n",
    "\n",
    "pipeline = LinearRegression().fit(X_train,y_train)\n",
    "\n",
    "pred = pipeline.predict(X_test)\n",
    "\n",
    "mse = np.sqrt(mean_squared_error(y_test,pred))\n",
    "print(f'Mean error: {mse:3.3} ({mse/np.mean(pred)*100:3.3}%)')\n",
    "\n",
    "score = pipeline.score(X_train,y_train)\n",
    "print('Model determination: ', score)\n",
    "\n",
    "plt.figure(figsize=(20, 7))\n",
    "plt.scatter(dayOfYearList, average_price)\n",
    "plt.plot(X_test, pred)\n",
    "plt.show()\n"
   ]
  },
  {
   "cell_type": "code",
   "execution_count": null,
   "metadata": {},
   "outputs": [
    {
     "ename": "NameError",
     "evalue": "name 'pd' is not defined",
     "output_type": "error",
     "traceback": [
      "\u001b[0;31m---------------------------------------------------------------------------\u001b[0m",
      "\u001b[0;31mNameError\u001b[0m                                 Traceback (most recent call last)",
      "\u001b[0;32m<ipython-input-3-eed999668478>\u001b[0m in \u001b[0;36m<module>\u001b[0;34m\u001b[0m\n\u001b[1;32m      1\u001b[0m \u001b[0;31m# Functions\u001b[0m\u001b[0;34m\u001b[0m\u001b[0;34m\u001b[0m\u001b[0;34m\u001b[0m\u001b[0m\n\u001b[1;32m      2\u001b[0m \u001b[0;34m\u001b[0m\u001b[0m\n\u001b[0;32m----> 3\u001b[0;31m \u001b[0mpumpkins\u001b[0m \u001b[0;34m=\u001b[0m \u001b[0mpd\u001b[0m\u001b[0;34m.\u001b[0m\u001b[0mread_csv\u001b[0m\u001b[0;34m(\u001b[0m\u001b[0;34m'./US-pumpkins.csv'\u001b[0m\u001b[0;34m,\u001b[0m \u001b[0mparse_dates\u001b[0m\u001b[0;34m=\u001b[0m\u001b[0;34m[\u001b[0m\u001b[0;34m'Date'\u001b[0m\u001b[0;34m]\u001b[0m\u001b[0;34m)\u001b[0m\u001b[0;34m\u001b[0m\u001b[0;34m\u001b[0m\u001b[0m\n\u001b[0m\u001b[1;32m      4\u001b[0m \u001b[0mpumpkins\u001b[0m\u001b[0;34m[\u001b[0m\u001b[0;34m'day_of_year'\u001b[0m\u001b[0;34m]\u001b[0m \u001b[0;34m=\u001b[0m \u001b[0mpumpkins\u001b[0m\u001b[0;34m[\u001b[0m\u001b[0;34m'Date'\u001b[0m\u001b[0;34m]\u001b[0m\u001b[0;34m.\u001b[0m\u001b[0mdt\u001b[0m\u001b[0;34m.\u001b[0m\u001b[0mdayofyear\u001b[0m\u001b[0;34m\u001b[0m\u001b[0;34m\u001b[0m\u001b[0m\n\u001b[1;32m      5\u001b[0m \u001b[0mkeep_columns\u001b[0m \u001b[0;34m=\u001b[0m \u001b[0;34m[\u001b[0m\u001b[0;34m'day_of_year'\u001b[0m\u001b[0;34m,\u001b[0m \u001b[0;34m'High Price'\u001b[0m\u001b[0;34m,\u001b[0m \u001b[0;34m'Low Price'\u001b[0m\u001b[0;34m]\u001b[0m \u001b[0;31m#put names of columns to keep here\u001b[0m\u001b[0;34m\u001b[0m\u001b[0;34m\u001b[0m\u001b[0m\n",
      "\u001b[0;31mNameError\u001b[0m: name 'pd' is not defined"
     ]
    }
   ],
   "source": [
    "# Functions\n",
    "\n",
    "pumpkins = pd.read_csv('./US-pumpkins.csv', parse_dates=['Date'])\n",
    "pumpkins['day_of_year'] = pumpkins['Date'].dt.dayofyear\n",
    "keep_columns = ['day_of_year', 'High Price', 'Low Price'] #put names of columns to keep here\n",
    "high_columns = pumpkins['High Price']\n",
    "low_columns = pumpkins['Low Price']\n",
    "pumpkins = pumpkins.drop([c for c in pumpkins.columns if c not in keep_columns], axis=1)\n",
    "pumpkins_df = pumpkins.assign(Average=(high_columns+low_columns)/2)\n",
    "print(pumpkins_df)"
   ]
  },
  {
   "cell_type": "code",
   "execution_count": null,
   "metadata": {},
   "outputs": [],
   "source": []
  }
 ],
 "metadata": {
  "kernelspec": {
   "display_name": "Python 3 (ipykernel)",
   "language": "python",
   "name": "python3"
  },
  "language_info": {
   "codemirror_mode": {
    "name": "ipython",
    "version": 3
   },
   "file_extension": ".py",
   "mimetype": "text/x-python",
   "name": "python",
   "nbconvert_exporter": "python",
   "pygments_lexer": "ipython3",
   "version": "3.10.6"
  },
  "vscode": {
   "interpreter": {
    "hash": "31f2aee4e71d21fbe5cf8b01ff0e069b9275f58929596ceb00d14d90e3e16cd6"
   }
  }
 },
 "nbformat": 4,
 "nbformat_minor": 2
}
